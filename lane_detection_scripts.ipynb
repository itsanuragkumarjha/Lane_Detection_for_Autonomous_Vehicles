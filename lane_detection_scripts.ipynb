{
 "cells": [
  {
   "cell_type": "markdown",
   "id": "38e641d6-4b20-4fc4-a19e-708e4df46075",
   "metadata": {},
   "source": [
    "# Installing required libraries:"
   ]
  },
  {
   "cell_type": "code",
   "execution_count": 2,
   "id": "d0c323cd-b681-4ed2-bf54-39e1e70d87d5",
   "metadata": {},
   "outputs": [
    {
     "name": "stdout",
     "output_type": "stream",
     "text": [
      "Requirement already satisfied: opencv-python in c:\\users\\dsk 8920444598\\appdata\\local\\programs\\python\\python312\\lib\\site-packages (4.9.0.80)\n",
      "Requirement already satisfied: numpy>=1.21.2 in c:\\users\\dsk 8920444598\\appdata\\local\\programs\\python\\python312\\lib\\site-packages (from opencv-python) (1.26.4)\n",
      "Note: you may need to restart the kernel to use updated packages.\n"
     ]
    }
   ],
   "source": [
    "pip install opencv-python"
   ]
  },
  {
   "cell_type": "code",
   "execution_count": 3,
   "id": "af6bfef9-e8c1-48bb-bfc4-da51d4d6ed01",
   "metadata": {},
   "outputs": [
    {
     "name": "stdout",
     "output_type": "stream",
     "text": [
      "Requirement already satisfied: moviepy in c:\\users\\dsk 8920444598\\appdata\\local\\programs\\python\\python312\\lib\\site-packages (1.0.3)\n",
      "Requirement already satisfied: decorator<5.0,>=4.0.2 in c:\\users\\dsk 8920444598\\appdata\\local\\programs\\python\\python312\\lib\\site-packages (from moviepy) (4.4.2)\n",
      "Requirement already satisfied: tqdm<5.0,>=4.11.2 in c:\\users\\dsk 8920444598\\appdata\\local\\programs\\python\\python312\\lib\\site-packages (from moviepy) (4.66.2)\n",
      "Requirement already satisfied: requests<3.0,>=2.8.1 in c:\\users\\dsk 8920444598\\appdata\\local\\programs\\python\\python312\\lib\\site-packages (from moviepy) (2.31.0)\n",
      "Requirement already satisfied: proglog<=1.0.0 in c:\\users\\dsk 8920444598\\appdata\\local\\programs\\python\\python312\\lib\\site-packages (from moviepy) (0.1.10)\n",
      "Requirement already satisfied: numpy>=1.17.3 in c:\\users\\dsk 8920444598\\appdata\\local\\programs\\python\\python312\\lib\\site-packages (from moviepy) (1.26.4)\n",
      "Requirement already satisfied: imageio<3.0,>=2.5 in c:\\users\\dsk 8920444598\\appdata\\local\\programs\\python\\python312\\lib\\site-packages (from moviepy) (2.34.1)\n",
      "Requirement already satisfied: imageio-ffmpeg>=0.2.0 in c:\\users\\dsk 8920444598\\appdata\\local\\programs\\python\\python312\\lib\\site-packages (from moviepy) (0.4.9)\n",
      "Requirement already satisfied: pillow>=8.3.2 in c:\\users\\dsk 8920444598\\appdata\\local\\programs\\python\\python312\\lib\\site-packages (from imageio<3.0,>=2.5->moviepy) (10.3.0)\n",
      "Requirement already satisfied: setuptools in c:\\users\\dsk 8920444598\\appdata\\local\\programs\\python\\python312\\lib\\site-packages (from imageio-ffmpeg>=0.2.0->moviepy) (70.0.0)\n",
      "Requirement already satisfied: charset-normalizer<4,>=2 in c:\\users\\dsk 8920444598\\appdata\\local\\programs\\python\\python312\\lib\\site-packages (from requests<3.0,>=2.8.1->moviepy) (3.3.2)\n",
      "Requirement already satisfied: idna<4,>=2.5 in c:\\users\\dsk 8920444598\\appdata\\local\\programs\\python\\python312\\lib\\site-packages (from requests<3.0,>=2.8.1->moviepy) (3.7)\n",
      "Requirement already satisfied: urllib3<3,>=1.21.1 in c:\\users\\dsk 8920444598\\appdata\\local\\programs\\python\\python312\\lib\\site-packages (from requests<3.0,>=2.8.1->moviepy) (2.2.1)\n",
      "Requirement already satisfied: certifi>=2017.4.17 in c:\\users\\dsk 8920444598\\appdata\\local\\programs\\python\\python312\\lib\\site-packages (from requests<3.0,>=2.8.1->moviepy) (2024.2.2)\n",
      "Requirement already satisfied: colorama in c:\\users\\dsk 8920444598\\appdata\\local\\programs\\python\\python312\\lib\\site-packages (from tqdm<5.0,>=4.11.2->moviepy) (0.4.6)\n",
      "Note: you may need to restart the kernel to use updated packages.\n"
     ]
    }
   ],
   "source": [
    "pip install moviepy"
   ]
  },
  {
   "cell_type": "markdown",
   "id": "aabe25dc-1cdb-48c1-9964-abf99ca914db",
   "metadata": {},
   "source": [
    "# Importing required libraries:"
   ]
  },
  {
   "cell_type": "code",
   "execution_count": 4,
   "id": "c5dc35c4-f502-4c08-a55e-93f063311e12",
   "metadata": {},
   "outputs": [],
   "source": [
    "import numpy as np\n",
    "import cv2\n",
    "from moviepy.editor import VideoFileClip"
   ]
  },
  {
   "cell_type": "markdown",
   "id": "d99a57a5-296d-4a08-942c-145bc34a3f26",
   "metadata": {},
   "source": [
    "# Lane detection script v1:"
   ]
  },
  {
   "cell_type": "code",
   "execution_count": 7,
   "id": "5e44f8ba-2984-4c7b-8aff-c6b19d5f8ff2",
   "metadata": {},
   "outputs": [
    {
     "name": "stdout",
     "output_type": "stream",
     "text": [
      "Moviepy - Building video C:\\Users\\DSK 8920444598\\Videos\\lane_detection\\output_1b.mp4.\n",
      "Moviepy - Writing video C:\\Users\\DSK 8920444598\\Videos\\lane_detection\\output_1b.mp4\n",
      "\n"
     ]
    },
    {
     "name": "stderr",
     "output_type": "stream",
     "text": [
      "                                                                                                                       \r"
     ]
    },
    {
     "name": "stdout",
     "output_type": "stream",
     "text": [
      "Moviepy - Done !\n",
      "Moviepy - video ready C:\\Users\\DSK 8920444598\\Videos\\lane_detection\\output_1b.mp4\n"
     ]
    }
   ],
   "source": [
    "def process_image(image):\n",
    "     gray = cv2.cvtColor(image, cv2.COLOR_RGB2GRAY)\n",
    "     blur_gray = cv2.GaussianBlur(gray, (5, 5), 0)\n",
    "     edges = cv2.Canny(blur_gray, 50, 150)\n",
    "    \n",
    "     imshape = image.shape\n",
    "     vertices = np.array([[(imshape[1] * 0.1, imshape[0]),\n",
    "     (imshape[1] * 0.30, imshape[0] * 0.6),\n",
    "     (imshape[1] * 0.55, imshape[0] * 0.6),\n",
    "     (imshape[1] * 0.9, imshape[0])]],\n",
    "     dtype=np.int32)\n",
    "    \n",
    "     masked_edges = region_of_interest(edges, vertices)\n",
    "     lines = hough_lines(masked_edges, rho=10, theta=np.pi/180, threshold=8, min_line_len=40, max_line_gap=20)\n",
    "    \n",
    "     result = draw_and_fill_lane(image, lines)\n",
    "     return result\n",
    "def region_of_interest(img, vertices):\n",
    "     mask = np.zeros_like(img)\n",
    "     cv2.fillPoly(mask, vertices, 255)\n",
    "     masked_img = cv2.bitwise_and(img, mask)\n",
    "     return masked_img\n",
    "def hough_lines(img, rho, theta, threshold, min_line_len, max_line_gap):\n",
    "     lines = cv2.HoughLinesP(img, rho, theta, threshold, np.array([]), minLineLength=min_line_len, maxLineGap=max_line_gap)\n",
    "     return lines\n",
    "def draw_and_fill_lane(img, lines, color=[255, 0, 0], thickness=8, fill_color=[0, 255, 0]):\n",
    "     line_img = np.zeros_like(img)\n",
    "     draw_lines(line_img, lines, color, thickness)\n",
    "    \n",
    "     left_lines, right_lines = separate_lines(lines)\n",
    "     fill_lane_area(line_img, left_lines, right_lines, fill_color)\n",
    "    \n",
    "     result = weighted_img(line_img, img)\n",
    "     return result\n",
    "\n",
    "def draw_lines(img, lines, color, thickness):\n",
    "    for line in lines:\n",
    "        for x1, y1, x2, y2 in line:\n",
    "            cv2.line(img, (x1, y1), (x2, y2), color, thickness)\n",
    "def separate_lines(lines):\n",
    "     left_lines = []\n",
    "     right_lines = []\n",
    "    \n",
    "     for line in lines:\n",
    "         for x1, y1, x2, y2 in line:\n",
    "             slope = (y2 - y1) / (x2 - x1)\n",
    "             if slope < -0.5: # Left lane line\n",
    "                 left_lines.append(line)\n",
    "             elif slope > 0.5: # Right lane line\n",
    "                 right_lines.append(line)\n",
    "        \n",
    "     return left_lines, right_lines\n",
    "def fill_lane_area(img, left_lines, right_lines, fill_color):\n",
    "     if left_lines and right_lines: # Check if both left and right lines are present\n",
    "         pts_left = np.array([[x1, y1] for line in left_lines for x1, y1, x2, y2 in line] +\n",
    "                             [[x2, y2] for line in left_lines for x1, y1, x2, y2 in line])\n",
    "         pts_right = np.array([[x1, y1] for line in right_lines for x1, y1, x2, y2 in line] +\n",
    "                              [[x2, y2] for line in right_lines for x1, y1, x2, y2 in line])\n",
    "         pts_right = pts_right[::-1]\n",
    "         pts = np.vstack((pts_left, pts_right))\n",
    "         cv2.fillPoly(img, [pts], fill_color)\n",
    "def weighted_img(img, initial_img, α=0.8, β=1.0, λ=0.0):\n",
    "     return cv2.addWeighted(initial_img, α, img, β, λ)\n",
    "# Process video\n",
    "input_path = \"C:\\\\Users\\\\DSK 8920444598\\\\Videos\\\\lane_detection\\\\input1.mp4\"\n",
    "output_path = \"C:\\\\Users\\\\DSK 8920444598\\\\Videos\\\\lane_detection\\\\output_1b.mp4\"\n",
    "clip = VideoFileClip(input_path)\n",
    "processed_clip = clip.fl_image(process_image)\n",
    "processed_clip.write_videofile(output_path, audio=False)"
   ]
  },
  {
   "cell_type": "markdown",
   "id": "6a79dacd-0810-47ef-bdd9-e0ecf0cef302",
   "metadata": {},
   "source": [
    "# Lane detection script v2:"
   ]
  },
  {
   "cell_type": "code",
   "execution_count": 8,
   "id": "b2665946-a05b-4091-ab29-b823e0903b13",
   "metadata": {},
   "outputs": [
    {
     "name": "stdout",
     "output_type": "stream",
     "text": [
      "Moviepy - Building video C:\\Users\\DSK 8920444598\\Videos\\lane_detection\\test_5b.mp4.\n",
      "Moviepy - Writing video C:\\Users\\DSK 8920444598\\Videos\\lane_detection\\test_5b.mp4\n",
      "\n"
     ]
    },
    {
     "name": "stderr",
     "output_type": "stream",
     "text": [
      "                                                                                                                       \r"
     ]
    },
    {
     "name": "stdout",
     "output_type": "stream",
     "text": [
      "Moviepy - Done !\n",
      "Moviepy - video ready C:\\Users\\DSK 8920444598\\Videos\\lane_detection\\test_5b.mp4\n"
     ]
    }
   ],
   "source": [
    "import cv2\n",
    "import numpy as np\n",
    "from moviepy.editor import VideoFileClip\n",
    "\n",
    "def process_image(image):\n",
    "    gray = cv2.cvtColor(image, cv2.COLOR_RGB2GRAY)\n",
    "    blur_gray = cv2.GaussianBlur(gray, (5, 5), 0)\n",
    "    edges = cv2.Canny(blur_gray, 50, 150)\n",
    "    \n",
    "    imshape = image.shape\n",
    "    vertices = np.array([[(imshape[1] * 0.1, imshape[0]),\n",
    "                          (imshape[1] * 0.45, imshape[0] * 0.6),\n",
    "                          (imshape[1] * 0.55, imshape[0] * 0.6),\n",
    "                          (imshape[1] * 0.9, imshape[0])]],\n",
    "                        dtype=np.int32)\n",
    "    \n",
    "    masked_edges = region_of_interest(edges, vertices)\n",
    "    lines = hough_lines(masked_edges, rho=1, theta=np.pi/180, threshold=15, min_line_len=20, max_line_gap=10)\n",
    "    \n",
    "    result = draw_and_fill_lane(image, lines)\n",
    "    return result\n",
    "\n",
    "def region_of_interest(img, vertices):\n",
    "    mask = np.zeros_like(img)\n",
    "    cv2.fillPoly(mask, vertices, 255)\n",
    "    masked_img = cv2.bitwise_and(img, mask)\n",
    "    return masked_img\n",
    "\n",
    "def hough_lines(img, rho, theta, threshold, min_line_len, max_line_gap):\n",
    "    lines = cv2.HoughLinesP(img, rho, theta, threshold, np.array([]), minLineLength=min_line_len, maxLineGap=max_line_gap)\n",
    "    return lines\n",
    "\n",
    "def draw_and_fill_lane(img, lines, color=[255, 0, 0], thickness=8, fill_color=[0, 255, 0]):\n",
    "    line_img = np.zeros_like(img)\n",
    "    draw_lines(line_img, lines, color, thickness)\n",
    "    \n",
    "    left_lines, right_lines = separate_lines(lines)\n",
    "    fill_lane_area(line_img, left_lines, right_lines, fill_color)\n",
    "    \n",
    "    result = weighted_img(line_img, img)\n",
    "    return result\n",
    "\n",
    "def draw_lines(img, lines, color, thickness):\n",
    "    for line in lines:\n",
    "        for x1, y1, x2, y2 in line:\n",
    "            cv2.line(img, (x1, y1), (x2, y2), color, thickness)\n",
    "\n",
    "def separate_lines(lines):\n",
    "    left_lines = []\n",
    "    right_lines = []\n",
    "    \n",
    "    for line in lines:\n",
    "        for x1, y1, x2, y2 in line:\n",
    "            slope = (y2 - y1) / (x2 - x1)\n",
    "            if slope < -0.5 and slope > -2: # Adjusted slope range for left lane line\n",
    "                left_lines.append(line)\n",
    "            elif slope > 0.5 and slope < 2: # Adjusted slope range for right lane line\n",
    "                right_lines.append(line)\n",
    "                \n",
    "    return left_lines, right_lines\n",
    "\n",
    "def fill_lane_area(img, left_lines, right_lines, fill_color):\n",
    "    if left_lines and right_lines: # Check if both left and right lines are present\n",
    "        pts_left = np.array([[x1, y1] for line in left_lines for x1, y1, x2, y2 in line] +\n",
    "                             [[x2, y2] for line in left_lines for x1, y1, x2, y2 in line])\n",
    "        pts_right = np.array([[x1, y1] for line in right_lines for x1, y1, x2, y2 in line] +\n",
    "                              [[x2, y2] for line in right_lines for x1, y1, x2, y2 in line])\n",
    "        pts_right = pts_right[::-1]\n",
    "        pts = np.vstack((pts_left, pts_right))\n",
    "        cv2.fillPoly(img, [pts], fill_color)\n",
    "\n",
    "def weighted_img(img, initial_img, α=0.8, β=1.0, λ=0.0):\n",
    "    return cv2.addWeighted(initial_img, α, img, β, λ)\n",
    "\n",
    "# Process video\n",
    "input_path = \"C:\\\\Users\\\\DSK 8920444598\\\\Videos\\\\lane_detection\\\\test5.mp4\"\n",
    "output_path = \"C:\\\\Users\\\\DSK 8920444598\\\\Videos\\\\lane_detection\\\\test_5b.mp4\"\n",
    "clip = VideoFileClip(input_path)\n",
    "processed_clip = clip.fl_image(process_image)\n",
    "processed_clip.write_videofile(output_path, audio=False)\n"
   ]
  },
  {
   "cell_type": "code",
   "execution_count": null,
   "id": "44090439-468f-41e5-9fa3-748848aacad9",
   "metadata": {},
   "outputs": [],
   "source": []
  }
 ],
 "metadata": {
  "kernelspec": {
   "display_name": "Python 3 (ipykernel)",
   "language": "python",
   "name": "python3"
  },
  "language_info": {
   "codemirror_mode": {
    "name": "ipython",
    "version": 3
   },
   "file_extension": ".py",
   "mimetype": "text/x-python",
   "name": "python",
   "nbconvert_exporter": "python",
   "pygments_lexer": "ipython3",
   "version": "3.12.3"
  }
 },
 "nbformat": 4,
 "nbformat_minor": 5
}
